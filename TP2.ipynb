{
 "cells": [
  {
   "cell_type": "markdown",
   "metadata": {},
   "source": [
    "Primero averiguamos el ASN (Autonomous System Number) de nuestra ISP:\n",
    "\n",
    "Entrando a: https://bgp.he.net \n",
    "\n",
    "<img src=\"imagenes/ASN.png\"> "
   ]
  },
  {
   "cell_type": "markdown",
   "metadata": {},
   "source": [
    "**AS objetivo**\n",
    "\n",
    "Aplicando el cálculo dado a nuestros números de padrón (95457 y 96626) obtenemos la clave 9, por lo que para el presente trabajo práctico utilizaremos el sistema autónomo de la empresa de servicios en la nube neozelandesa Revera.\n",
    "**ASN = 18353**"
   ]
  },
  {
   "cell_type": "code",
   "execution_count": 1,
   "metadata": {},
   "outputs": [],
   "source": [
    "REVERA_ASN=18353\n",
    "ISP_ASN=10318"
   ]
  },
  {
   "cell_type": "markdown",
   "metadata": {},
   "source": [
    "Colectores a utilizar: 'route-views.saopaulo' y 'route-views.sg'\n"
   ]
  },
  {
   "cell_type": "code",
   "execution_count": 2,
   "metadata": {},
   "outputs": [],
   "source": [
    "COLLECTOR_1='route-views.sg'\n",
    "COLLECTOR_2='route-views.saopaulo'"
   ]
  },
  {
   "cell_type": "code",
   "execution_count": 3,
   "metadata": {
    "scrolled": true
   },
   "outputs": [],
   "source": [
    "# ’’’\n",
    "# export LD_LIBRARY_PATH =/usr/local/lib\n",
    "# ’’’\n",
    "import pybgpstream\n",
    "import pprint\n",
    "import numpy as np\n",
    "from operator import itemgetter\n",
    "from itertools import groupby\n",
    "\n",
    "#---------------------------------------------------------\n",
    "# Definiciones\n",
    "\n",
    "TIME_INIT=\"2017-03-01\"\n",
    "TIME_END=\"2017-03-01 00:05\""
   ]
  },
  {
   "cell_type": "code",
   "execution_count": null,
   "metadata": {},
   "outputs": [],
   "source": [
    "def getAsPaths(collector, asn):\n",
    "    #---------------------------------------------------------\n",
    "    # Genero la consulta a la API\n",
    "    stream = pybgpstream.BGPStream (\n",
    "    from_time = TIME_INIT ,\n",
    "    until_time = TIME_END ,\n",
    "    filter = \"type  ribs  and  collector  %s  and  path  %s\" % (collector,asn))\n",
    "    \n",
    "    # Itero en cada uno de los anuncios\n",
    "    as_paths = []\n",
    "    for elem in stream :\n",
    "        \n",
    "    # Filtro solo los AS-PATHS que tengan como destino\n",
    "    # (ultimo AS en la cadena) a Telecom Argentina S.A\n",
    "        as_path = elem.fields[\"as-path\"].split(' ')\n",
    "        if int (as_path[ -1]) == asn :\n",
    "            \n",
    "            #Eliminamos los ASN consecutivos repetidos\n",
    "            as_path_without_consecutives_duplicated = tuple(map(itemgetter(0), groupby(as_path)))\n",
    "            as_paths.append(as_path_without_consecutives_duplicated)\n",
    "            #pprint.pprint(elem.fields)\n",
    "    return as_paths"
   ]
  },
  {
   "cell_type": "code",
   "execution_count": null,
   "metadata": {
    "scrolled": true
   },
   "outputs": [],
   "source": [
    "as_paths_1 = getAsPaths(COLLECTOR_1, ISP_ASN)\n",
    "set(as_paths_1)"
   ]
  },
  {
   "cell_type": "code",
   "execution_count": null,
   "metadata": {},
   "outputs": [],
   "source": [
    "as_paths_2 = getAsPaths(COLLECTOR_2, ISP_ASN)\n",
    "set(as_paths_2)"
   ]
  },
  {
   "cell_type": "code",
   "execution_count": null,
   "metadata": {},
   "outputs": [],
   "source": [
    "as_paths_3 = getAsPaths(COLLECTOR_1, REVERA_ASN)\n",
    "set(as_paths_3)"
   ]
  },
  {
   "cell_type": "code",
   "execution_count": null,
   "metadata": {},
   "outputs": [],
   "source": [
    "as_paths_4 = getAsPaths(COLLECTOR_2, REVERA_ASN)\n",
    "set(as_paths_4)"
   ]
  },
  {
   "cell_type": "markdown",
   "metadata": {},
   "source": [
    "¿Cuántos AS-PATHS diferentes se ven desde cada colector hacia el AS objetivo y hacia su ISP? Se considera un AS-PATH a toda la cadena de ASes. Usted debe mostrar 4 resultados (2 colectores, 2 ASes)"
   ]
  },
  {
   "cell_type": "markdown",
   "metadata": {},
   "source": [
    "* Colector: route-views.sg\n",
    "* AS: ISP\n",
    "* AS - PATHS: "
   ]
  },
  {
   "cell_type": "code",
   "execution_count": null,
   "metadata": {},
   "outputs": [],
   "source": []
  },
  {
   "cell_type": "code",
   "execution_count": null,
   "metadata": {
    "scrolled": false
   },
   "outputs": [],
   "source": []
  },
  {
   "cell_type": "code",
   "execution_count": null,
   "metadata": {},
   "outputs": [],
   "source": []
  }
 ],
 "metadata": {
  "kernelspec": {
   "display_name": "Python 3",
   "language": "python",
   "name": "python3"
  },
  "language_info": {
   "codemirror_mode": {
    "name": "ipython",
    "version": 3
   },
   "file_extension": ".py",
   "mimetype": "text/x-python",
   "name": "python",
   "nbconvert_exporter": "python",
   "pygments_lexer": "ipython3",
   "version": "3.6.4"
  }
 },
 "nbformat": 4,
 "nbformat_minor": 2
}
