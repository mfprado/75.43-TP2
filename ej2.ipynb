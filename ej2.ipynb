{
 "cells": [
  {
   "cell_type": "markdown",
   "metadata": {},
   "source": [
    "# ESTADO DE DESAGREGACIÓN EN LA FULL RIB\n",
    "\n",
    "Se deberá por medio de BGPstream conseguir una tabla de ruteo BGP completa (full RIB), para luego inspeccionar cuantas entradas tiene la tabla antes y después de efectuar la máxima agregación posible.\n",
    "IMPORTANTE: La agregación de prefijos debe tener en cuenta los AS origen. Es decir, prefijos continuos pero originados por diferentes ASes no pueden ser agregados.\n",
    "\n",
    "Para poder llevar a cabo el ejercicio deberá seleccionar:\n",
    "\n",
    "* Un colector: podrá ser cualquiera que crea conveniente de la siguiente lista https://bgpstream.caida.org/data.\n",
    "\n",
    "* Una fecha: deberá usar como día y mes, la fecha de cumpleaños de alguno de los integrantes, y como año, el valor 2015. El colector elegido deberá disponer de información en esa fecha."
   ]
  },
  {
   "cell_type": "code",
   "execution_count": 14,
   "metadata": {},
   "outputs": [],
   "source": [
    "import pybgpstream\n",
    "import pprint\n",
    "import numpy as np"
   ]
  },
  {
   "cell_type": "code",
   "execution_count": 21,
   "metadata": {},
   "outputs": [],
   "source": [
    "COLLECTOR='route-views.saopaulo'\n",
    "TIME_INIT=\"2015-06-06\"\n",
    "TIME_END=\"2015-06-06 00:05\"\n",
    "\n",
    "def getFullRib(collector, timeInit, timeEnd):\n",
    "    #---------------------------------------------------------\n",
    "    # Genero la consulta a la API\n",
    "    stream = pybgpstream.BGPStream (\n",
    "    from_time = timeInit ,\n",
    "    until_time = timeEnd ,\n",
    "    filter = \"type  ribs  and  collector  %s\" % (collector))\n",
    "    \n",
    "    # Itero en cada uno de los anuncios\n",
    "    elements = []\n",
    "    for elem in stream :\n",
    "        elements.append(elem.fields)\n",
    "    return elements"
   ]
  },
  {
   "cell_type": "code",
   "execution_count": null,
   "metadata": {},
   "outputs": [],
   "source": [
    "elements = getFullRib(COLLECTOR, TIME_INIT, TIME_END)"
   ]
  },
  {
   "cell_type": "code",
   "execution_count": null,
   "metadata": {},
   "outputs": [],
   "source": [
    "for i in range(10):\n",
    "    pprint.pprint(elements[i])"
   ]
  },
  {
   "cell_type": "code",
   "execution_count": null,
   "metadata": {},
   "outputs": [],
   "source": []
  }
 ],
 "metadata": {
  "kernelspec": {
   "display_name": "Python 3",
   "language": "python",
   "name": "python3"
  },
  "language_info": {
   "codemirror_mode": {
    "name": "ipython",
    "version": 3
   },
   "file_extension": ".py",
   "mimetype": "text/x-python",
   "name": "python",
   "nbconvert_exporter": "python",
   "pygments_lexer": "ipython3",
   "version": "3.6.4"
  }
 },
 "nbformat": 4,
 "nbformat_minor": 2
}
