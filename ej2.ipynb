{
 "cells": [
  {
   "cell_type": "markdown",
   "metadata": {},
   "source": [
    "# ESTADO DE DESAGREGACIÓN EN LA FULL RIB\n",
    "\n",
    "Se deberá por medio de BGPstream conseguir una tabla de ruteo BGP completa (full RIB), para luego inspeccionar cuantas entradas tiene la tabla antes y después de efectuar la máxima agregación posible.\n",
    "\n",
    "IMPORTANTE: La agregación de prefijos debe tener en cuenta los AS origen. Es decir, prefijos continuos pero originados por diferentes ASes no pueden ser agregados.\n",
    "\n",
    "Para poder llevar a cabo el ejercicio deberá seleccionar:\n",
    "\n",
    "* Un colector: podrá ser cualquiera que crea conveniente de la siguiente lista https://bgpstream.caida.org/data.\n",
    "\n",
    "* Una fecha: deberá usar como día y mes, la fecha de cumpleaños de alguno de los integrantes, y como año, el valor 2015. El colector elegido deberá disponer de información en esa fecha."
   ]
  },
  {
   "cell_type": "code",
   "execution_count": 26,
   "metadata": {},
   "outputs": [],
   "source": [
    "import pybgpstream\n",
    "import pprint\n",
    "import numpy as np\n",
    "from itertools import groupby\n",
    "import pandas as pd\n",
    "\n",
    "#!pip install ipaddr\n",
    "import ipaddr, ipaddress"
   ]
  },
  {
   "cell_type": "code",
   "execution_count": 5,
   "metadata": {},
   "outputs": [],
   "source": [
    "!python script_ej2.py"
   ]
  },
  {
   "cell_type": "code",
   "execution_count": 9,
   "metadata": {
    "scrolled": true
   },
   "outputs": [
    {
     "name": "stderr",
     "output_type": "stream",
     "text": [
      "/Users/mariaflorenciaprado/anaconda3/lib/python3.6/site-packages/IPython/core/interactiveshell.py:2728: DtypeWarning: Columns (0) have mixed types. Specify dtype option on import or set low_memory=False.\n",
      "  interactivity=interactivity, compiler=compiler, result=result)\n"
     ]
    }
   ],
   "source": [
    "df = pd.read_csv('rib_ej2.csv', delim_whitespace = 5 )"
   ]
  },
  {
   "cell_type": "code",
   "execution_count": 13,
   "metadata": {},
   "outputs": [
    {
     "data": {
      "text/html": [
       "<div>\n",
       "<style scoped>\n",
       "    .dataframe tbody tr th:only-of-type {\n",
       "        vertical-align: middle;\n",
       "    }\n",
       "\n",
       "    .dataframe tbody tr th {\n",
       "        vertical-align: top;\n",
       "    }\n",
       "\n",
       "    .dataframe thead th {\n",
       "        text-align: right;\n",
       "    }\n",
       "</style>\n",
       "<table border=\"1\" class=\"dataframe\">\n",
       "  <thead>\n",
       "    <tr style=\"text-align: right;\">\n",
       "      <th></th>\n",
       "      <th>as_origen</th>\n",
       "      <th>prefix</th>\n",
       "    </tr>\n",
       "  </thead>\n",
       "  <tbody>\n",
       "    <tr>\n",
       "      <th>0</th>\n",
       "      <td>1251</td>\n",
       "      <td>0.0.0.0/0</td>\n",
       "    </tr>\n",
       "    <tr>\n",
       "      <th>1</th>\n",
       "      <td>262476</td>\n",
       "      <td>0.0.0.0/0</td>\n",
       "    </tr>\n",
       "    <tr>\n",
       "      <th>2</th>\n",
       "      <td>1251</td>\n",
       "      <td>0.0.0.0/0</td>\n",
       "    </tr>\n",
       "    <tr>\n",
       "      <th>3</th>\n",
       "      <td>15169</td>\n",
       "      <td>1.0.0.0/24</td>\n",
       "    </tr>\n",
       "    <tr>\n",
       "      <th>4</th>\n",
       "      <td>15169</td>\n",
       "      <td>1.0.0.0/24</td>\n",
       "    </tr>\n",
       "  </tbody>\n",
       "</table>\n",
       "</div>"
      ],
      "text/plain": [
       "  as_origen      prefix\n",
       "0      1251   0.0.0.0/0\n",
       "1    262476   0.0.0.0/0\n",
       "2      1251   0.0.0.0/0\n",
       "3     15169  1.0.0.0/24\n",
       "4     15169  1.0.0.0/24"
      ]
     },
     "execution_count": 13,
     "metadata": {},
     "output_type": "execute_result"
    }
   ],
   "source": [
    "df.head()"
   ]
  },
  {
   "cell_type": "code",
   "execution_count": 11,
   "metadata": {},
   "outputs": [
    {
     "data": {
      "text/plain": [
       "12759132"
      ]
     },
     "execution_count": 11,
     "metadata": {},
     "output_type": "execute_result"
    }
   ],
   "source": [
    "df.size"
   ]
  },
  {
   "cell_type": "code",
   "execution_count": 40,
   "metadata": {},
   "outputs": [],
   "source": [
    "df['prefix'] = df['prefix'].apply(lambda x : ipaddress.ip_network(str(x))) \n",
    "#Convierto los prefijos a ip type"
   ]
  },
  {
   "cell_type": "code",
   "execution_count": 41,
   "metadata": {},
   "outputs": [
    {
     "data": {
      "text/html": [
       "<div>\n",
       "<style scoped>\n",
       "    .dataframe tbody tr th:only-of-type {\n",
       "        vertical-align: middle;\n",
       "    }\n",
       "\n",
       "    .dataframe tbody tr th {\n",
       "        vertical-align: top;\n",
       "    }\n",
       "\n",
       "    .dataframe thead th {\n",
       "        text-align: right;\n",
       "    }\n",
       "</style>\n",
       "<table border=\"1\" class=\"dataframe\">\n",
       "  <thead>\n",
       "    <tr style=\"text-align: right;\">\n",
       "      <th></th>\n",
       "      <th>as_origen</th>\n",
       "      <th>prefix</th>\n",
       "    </tr>\n",
       "  </thead>\n",
       "  <tbody>\n",
       "    <tr>\n",
       "      <th>0</th>\n",
       "      <td>1251</td>\n",
       "      <td>0.0.0.0/0</td>\n",
       "    </tr>\n",
       "    <tr>\n",
       "      <th>1</th>\n",
       "      <td>262476</td>\n",
       "      <td>0.0.0.0/0</td>\n",
       "    </tr>\n",
       "    <tr>\n",
       "      <th>2</th>\n",
       "      <td>1251</td>\n",
       "      <td>0.0.0.0/0</td>\n",
       "    </tr>\n",
       "    <tr>\n",
       "      <th>3</th>\n",
       "      <td>15169</td>\n",
       "      <td>1.0.0.0/24</td>\n",
       "    </tr>\n",
       "    <tr>\n",
       "      <th>4</th>\n",
       "      <td>15169</td>\n",
       "      <td>1.0.0.0/24</td>\n",
       "    </tr>\n",
       "  </tbody>\n",
       "</table>\n",
       "</div>"
      ],
      "text/plain": [
       "  as_origen      prefix\n",
       "0      1251   0.0.0.0/0\n",
       "1    262476   0.0.0.0/0\n",
       "2      1251   0.0.0.0/0\n",
       "3     15169  1.0.0.0/24\n",
       "4     15169  1.0.0.0/24"
      ]
     },
     "execution_count": 41,
     "metadata": {},
     "output_type": "execute_result"
    }
   ],
   "source": [
    "df.head()"
   ]
  },
  {
   "cell_type": "code",
   "execution_count": 71,
   "metadata": {},
   "outputs": [
    {
     "data": {
      "text/html": [
       "<div>\n",
       "<style scoped>\n",
       "    .dataframe tbody tr th:only-of-type {\n",
       "        vertical-align: middle;\n",
       "    }\n",
       "\n",
       "    .dataframe tbody tr th {\n",
       "        vertical-align: top;\n",
       "    }\n",
       "\n",
       "    .dataframe thead th {\n",
       "        text-align: right;\n",
       "    }\n",
       "</style>\n",
       "<table border=\"1\" class=\"dataframe\">\n",
       "  <thead>\n",
       "    <tr style=\"text-align: right;\">\n",
       "      <th></th>\n",
       "      <th>as_origen</th>\n",
       "      <th>prefix</th>\n",
       "    </tr>\n",
       "  </thead>\n",
       "  <tbody>\n",
       "    <tr>\n",
       "      <th>0</th>\n",
       "      <td>1251</td>\n",
       "      <td>0.0.0.0/0</td>\n",
       "    </tr>\n",
       "    <tr>\n",
       "      <th>1</th>\n",
       "      <td>262476</td>\n",
       "      <td>0.0.0.0/0</td>\n",
       "    </tr>\n",
       "    <tr>\n",
       "      <th>2</th>\n",
       "      <td>1251</td>\n",
       "      <td>0.0.0.0/0</td>\n",
       "    </tr>\n",
       "    <tr>\n",
       "      <th>3</th>\n",
       "      <td>15169</td>\n",
       "      <td>1.0.0.0/24</td>\n",
       "    </tr>\n",
       "    <tr>\n",
       "      <th>4</th>\n",
       "      <td>15169</td>\n",
       "      <td>1.0.0.0/24</td>\n",
       "    </tr>\n",
       "  </tbody>\n",
       "</table>\n",
       "</div>"
      ],
      "text/plain": [
       "  as_origen      prefix\n",
       "0      1251   0.0.0.0/0\n",
       "1    262476   0.0.0.0/0\n",
       "2      1251   0.0.0.0/0\n",
       "3     15169  1.0.0.0/24\n",
       "4     15169  1.0.0.0/24"
      ]
     },
     "execution_count": 71,
     "metadata": {},
     "output_type": "execute_result"
    }
   ],
   "source": [
    "df_IPv4 = (df.loc[df['prefix'].apply(lambda x : x.version == 4)])\n",
    "df_IPv4.head()"
   ]
  },
  {
   "cell_type": "code",
   "execution_count": 66,
   "metadata": {},
   "outputs": [
    {
     "data": {
      "text/plain": [
       "12331446"
      ]
     },
     "execution_count": 66,
     "metadata": {},
     "output_type": "execute_result"
    }
   ],
   "source": [
    "df_IPv4.size"
   ]
  },
  {
   "cell_type": "code",
   "execution_count": 72,
   "metadata": {},
   "outputs": [
    {
     "data": {
      "text/html": [
       "<div>\n",
       "<style scoped>\n",
       "    .dataframe tbody tr th:only-of-type {\n",
       "        vertical-align: middle;\n",
       "    }\n",
       "\n",
       "    .dataframe tbody tr th {\n",
       "        vertical-align: top;\n",
       "    }\n",
       "\n",
       "    .dataframe thead th {\n",
       "        text-align: right;\n",
       "    }\n",
       "</style>\n",
       "<table border=\"1\" class=\"dataframe\">\n",
       "  <thead>\n",
       "    <tr style=\"text-align: right;\">\n",
       "      <th></th>\n",
       "      <th>as_origen</th>\n",
       "      <th>prefix</th>\n",
       "    </tr>\n",
       "  </thead>\n",
       "  <tbody>\n",
       "    <tr>\n",
       "      <th>6165723</th>\n",
       "      <td>1251</td>\n",
       "      <td>::/0</td>\n",
       "    </tr>\n",
       "    <tr>\n",
       "      <th>6165724</th>\n",
       "      <td>262476</td>\n",
       "      <td>::/0</td>\n",
       "    </tr>\n",
       "    <tr>\n",
       "      <th>6165725</th>\n",
       "      <td>262476</td>\n",
       "      <td>::/0</td>\n",
       "    </tr>\n",
       "    <tr>\n",
       "      <th>6165726</th>\n",
       "      <td>14840</td>\n",
       "      <td>::/0</td>\n",
       "    </tr>\n",
       "    <tr>\n",
       "      <th>6165727</th>\n",
       "      <td>17465</td>\n",
       "      <td>0:2000::/20</td>\n",
       "    </tr>\n",
       "  </tbody>\n",
       "</table>\n",
       "</div>"
      ],
      "text/plain": [
       "        as_origen       prefix\n",
       "6165723      1251         ::/0\n",
       "6165724    262476         ::/0\n",
       "6165725    262476         ::/0\n",
       "6165726     14840         ::/0\n",
       "6165727     17465  0:2000::/20"
      ]
     },
     "execution_count": 72,
     "metadata": {},
     "output_type": "execute_result"
    }
   ],
   "source": [
    "df_IPv6 = (df.loc[df['prefix'].apply(lambda x : x.version == 6)])\n",
    "df_IPv6.head()"
   ]
  },
  {
   "cell_type": "code",
   "execution_count": 67,
   "metadata": {},
   "outputs": [
    {
     "data": {
      "text/plain": [
       "427686"
      ]
     },
     "execution_count": 67,
     "metadata": {},
     "output_type": "execute_result"
    }
   ],
   "source": [
    "df_IPv6.size"
   ]
  },
  {
   "cell_type": "code",
   "execution_count": 70,
   "metadata": {},
   "outputs": [
    {
     "data": {
      "text/plain": [
       "True"
      ]
     },
     "execution_count": 70,
     "metadata": {},
     "output_type": "execute_result"
    }
   ],
   "source": [
    "12331446 + 427686 == 12759132 #Verifico"
   ]
  },
  {
   "cell_type": "code",
   "execution_count": 98,
   "metadata": {},
   "outputs": [],
   "source": [
    "rib_IPv4_aggregated = df_IPv4.groupby('as_origen', as_index=False).agg(lambda x: ipaddress.collapse_addresses(x['prefix']))"
   ]
  },
  {
   "cell_type": "code",
   "execution_count": 101,
   "metadata": {},
   "outputs": [
    {
     "data": {
      "text/plain": [
       "51981"
      ]
     },
     "execution_count": 101,
     "metadata": {},
     "output_type": "execute_result"
    }
   ],
   "source": [
    "rib_IPv4_aggregated.size"
   ]
  },
  {
   "cell_type": "code",
   "execution_count": 116,
   "metadata": {},
   "outputs": [],
   "source": [
    "rib_IPv4_aggregated.prefix = rib_IPv4_aggregated.prefix.apply(lambda x : list(x))"
   ]
  },
  {
   "cell_type": "code",
   "execution_count": 117,
   "metadata": {
    "scrolled": true
   },
   "outputs": [
    {
     "data": {
      "text/html": [
       "<div>\n",
       "<style scoped>\n",
       "    .dataframe tbody tr th:only-of-type {\n",
       "        vertical-align: middle;\n",
       "    }\n",
       "\n",
       "    .dataframe tbody tr th {\n",
       "        vertical-align: top;\n",
       "    }\n",
       "\n",
       "    .dataframe thead th {\n",
       "        text-align: right;\n",
       "    }\n",
       "</style>\n",
       "<table border=\"1\" class=\"dataframe\">\n",
       "  <thead>\n",
       "    <tr style=\"text-align: right;\">\n",
       "      <th></th>\n",
       "      <th>as_origen</th>\n",
       "      <th>prefix</th>\n",
       "    </tr>\n",
       "  </thead>\n",
       "  <tbody>\n",
       "    <tr>\n",
       "      <th>0</th>\n",
       "      <td>5</td>\n",
       "      <td>[189.217.0.0/20]</td>\n",
       "    </tr>\n",
       "    <tr>\n",
       "      <th>1</th>\n",
       "      <td>42</td>\n",
       "      <td>[189.201.244.0/23]</td>\n",
       "    </tr>\n",
       "    <tr>\n",
       "      <th>2</th>\n",
       "      <td>174</td>\n",
       "      <td>[188.64.32.0/21, 190.105.156.0/23]</td>\n",
       "    </tr>\n",
       "    <tr>\n",
       "      <th>3</th>\n",
       "      <td>513</td>\n",
       "      <td>[188.184.0.0/16]</td>\n",
       "    </tr>\n",
       "    <tr>\n",
       "      <th>4</th>\n",
       "      <td>680</td>\n",
       "      <td>[188.1.0.0/16]</td>\n",
       "    </tr>\n",
       "    <tr>\n",
       "      <th>5</th>\n",
       "      <td>1134</td>\n",
       "      <td>[188.207.32.0/20, 188.207.48.0/21, 188.207.56....</td>\n",
       "    </tr>\n",
       "    <tr>\n",
       "      <th>6</th>\n",
       "      <td>1136</td>\n",
       "      <td>[188.92.152.0/23, 188.200.0.0/13]</td>\n",
       "    </tr>\n",
       "    <tr>\n",
       "      <th>7</th>\n",
       "      <td>1241</td>\n",
       "      <td>[188.4.0.0/16]</td>\n",
       "    </tr>\n",
       "    <tr>\n",
       "      <th>8</th>\n",
       "      <td>1257</td>\n",
       "      <td>[188.65.152.0/21]</td>\n",
       "    </tr>\n",
       "    <tr>\n",
       "      <th>9</th>\n",
       "      <td>1435</td>\n",
       "      <td>[190.124.40.0/21]</td>\n",
       "    </tr>\n",
       "  </tbody>\n",
       "</table>\n",
       "</div>"
      ],
      "text/plain": [
       "  as_origen                                             prefix\n",
       "0         5                                   [189.217.0.0/20]\n",
       "1        42                                 [189.201.244.0/23]\n",
       "2       174                 [188.64.32.0/21, 190.105.156.0/23]\n",
       "3       513                                   [188.184.0.0/16]\n",
       "4       680                                     [188.1.0.0/16]\n",
       "5      1134  [188.207.32.0/20, 188.207.48.0/21, 188.207.56....\n",
       "6      1136                  [188.92.152.0/23, 188.200.0.0/13]\n",
       "7      1241                                     [188.4.0.0/16]\n",
       "8      1257                                  [188.65.152.0/21]\n",
       "9      1435                                  [190.124.40.0/21]"
      ]
     },
     "execution_count": 117,
     "metadata": {},
     "output_type": "execute_result"
    }
   ],
   "source": [
    "rib_IPv4_aggregated.head(10)"
   ]
  },
  {
   "cell_type": "code",
   "execution_count": 131,
   "metadata": {},
   "outputs": [],
   "source": [
    "#Una entrada por prefijo\n",
    "rib_IPv4_aggregated = rib_IPv4_aggregated['prefix'].apply(lambda x: pd.Series(x)).stack().reset_index(level=1, drop=True).to_frame('prefix').join(df[['as_origen']], how='left')"
   ]
  },
  {
   "cell_type": "code",
   "execution_count": 132,
   "metadata": {},
   "outputs": [
    {
     "data": {
      "text/html": [
       "<div>\n",
       "<style scoped>\n",
       "    .dataframe tbody tr th:only-of-type {\n",
       "        vertical-align: middle;\n",
       "    }\n",
       "\n",
       "    .dataframe tbody tr th {\n",
       "        vertical-align: top;\n",
       "    }\n",
       "\n",
       "    .dataframe thead th {\n",
       "        text-align: right;\n",
       "    }\n",
       "</style>\n",
       "<table border=\"1\" class=\"dataframe\">\n",
       "  <thead>\n",
       "    <tr style=\"text-align: right;\">\n",
       "      <th></th>\n",
       "      <th>prefix</th>\n",
       "      <th>as_origen</th>\n",
       "    </tr>\n",
       "  </thead>\n",
       "  <tbody>\n",
       "    <tr>\n",
       "      <th>0</th>\n",
       "      <td>189.217.0.0/20</td>\n",
       "      <td>1251</td>\n",
       "    </tr>\n",
       "    <tr>\n",
       "      <th>1</th>\n",
       "      <td>189.201.244.0/23</td>\n",
       "      <td>262476</td>\n",
       "    </tr>\n",
       "    <tr>\n",
       "      <th>2</th>\n",
       "      <td>188.64.32.0/21</td>\n",
       "      <td>1251</td>\n",
       "    </tr>\n",
       "    <tr>\n",
       "      <th>2</th>\n",
       "      <td>190.105.156.0/23</td>\n",
       "      <td>1251</td>\n",
       "    </tr>\n",
       "    <tr>\n",
       "      <th>3</th>\n",
       "      <td>188.184.0.0/16</td>\n",
       "      <td>15169</td>\n",
       "    </tr>\n",
       "    <tr>\n",
       "      <th>4</th>\n",
       "      <td>188.1.0.0/16</td>\n",
       "      <td>15169</td>\n",
       "    </tr>\n",
       "    <tr>\n",
       "      <th>5</th>\n",
       "      <td>188.207.32.0/20</td>\n",
       "      <td>15169</td>\n",
       "    </tr>\n",
       "    <tr>\n",
       "      <th>5</th>\n",
       "      <td>188.207.48.0/21</td>\n",
       "      <td>15169</td>\n",
       "    </tr>\n",
       "    <tr>\n",
       "      <th>5</th>\n",
       "      <td>188.207.56.0/22</td>\n",
       "      <td>15169</td>\n",
       "    </tr>\n",
       "    <tr>\n",
       "      <th>6</th>\n",
       "      <td>188.92.152.0/23</td>\n",
       "      <td>15169</td>\n",
       "    </tr>\n",
       "  </tbody>\n",
       "</table>\n",
       "</div>"
      ],
      "text/plain": [
       "             prefix as_origen\n",
       "0    189.217.0.0/20      1251\n",
       "1  189.201.244.0/23    262476\n",
       "2    188.64.32.0/21      1251\n",
       "2  190.105.156.0/23      1251\n",
       "3    188.184.0.0/16     15169\n",
       "4      188.1.0.0/16     15169\n",
       "5   188.207.32.0/20     15169\n",
       "5   188.207.48.0/21     15169\n",
       "5   188.207.56.0/22     15169\n",
       "6   188.92.152.0/23     15169"
      ]
     },
     "execution_count": 132,
     "metadata": {},
     "output_type": "execute_result"
    }
   ],
   "source": [
    "rib_IPv4_aggregated.head(10)"
   ]
  },
  {
   "cell_type": "code",
   "execution_count": 133,
   "metadata": {},
   "outputs": [
    {
     "data": {
      "text/plain": [
       "443280"
      ]
     },
     "execution_count": 133,
     "metadata": {},
     "output_type": "execute_result"
    }
   ],
   "source": [
    "rib_IPv4_aggregated.size"
   ]
  },
  {
   "cell_type": "code",
   "execution_count": 109,
   "metadata": {},
   "outputs": [],
   "source": [
    "rib_IPv6_aggregated = df_IPv6.groupby('as_origen', as_index=False).agg(lambda x:  ipaddress.collapse_addresses(x['prefix']))"
   ]
  },
  {
   "cell_type": "code",
   "execution_count": 118,
   "metadata": {},
   "outputs": [],
   "source": [
    "rib_IPv6_aggregated.prefix = rib_IPv6_aggregated.prefix.apply(lambda x : list(x))"
   ]
  },
  {
   "cell_type": "code",
   "execution_count": 128,
   "metadata": {},
   "outputs": [
    {
     "data": {
      "text/html": [
       "<div>\n",
       "<style scoped>\n",
       "    .dataframe tbody tr th:only-of-type {\n",
       "        vertical-align: middle;\n",
       "    }\n",
       "\n",
       "    .dataframe tbody tr th {\n",
       "        vertical-align: top;\n",
       "    }\n",
       "\n",
       "    .dataframe thead th {\n",
       "        text-align: right;\n",
       "    }\n",
       "</style>\n",
       "<table border=\"1\" class=\"dataframe\">\n",
       "  <thead>\n",
       "    <tr style=\"text-align: right;\">\n",
       "      <th></th>\n",
       "      <th>as_origen</th>\n",
       "      <th>prefix</th>\n",
       "    </tr>\n",
       "  </thead>\n",
       "  <tbody>\n",
       "    <tr>\n",
       "      <th>0</th>\n",
       "      <td>10000</td>\n",
       "      <td>[2405:ed00::/32]</td>\n",
       "    </tr>\n",
       "    <tr>\n",
       "      <th>1</th>\n",
       "      <td>10001</td>\n",
       "      <td>[2403:7c00::/32]</td>\n",
       "    </tr>\n",
       "    <tr>\n",
       "      <th>2</th>\n",
       "      <td>10002</td>\n",
       "      <td>[2400:8300::/32]</td>\n",
       "    </tr>\n",
       "    <tr>\n",
       "      <th>3</th>\n",
       "      <td>10006</td>\n",
       "      <td>[2403:9400:1::/48, 2403:9400:2::/48]</td>\n",
       "    </tr>\n",
       "    <tr>\n",
       "      <th>4</th>\n",
       "      <td>10010</td>\n",
       "      <td>[2401:980::/32, 2401:af80::/33, 2403:1f00::/32...</td>\n",
       "    </tr>\n",
       "    <tr>\n",
       "      <th>5</th>\n",
       "      <td>10012</td>\n",
       "      <td>[2400:5100::/32]</td>\n",
       "    </tr>\n",
       "    <tr>\n",
       "      <th>6</th>\n",
       "      <td>10013</td>\n",
       "      <td>[2001:2e8::/32, 2001:3e0::/32]</td>\n",
       "    </tr>\n",
       "    <tr>\n",
       "      <th>7</th>\n",
       "      <td>10014</td>\n",
       "      <td>[2001:df6:8000::/48]</td>\n",
       "    </tr>\n",
       "    <tr>\n",
       "      <th>8</th>\n",
       "      <td>10019</td>\n",
       "      <td>[2401:3200::/32]</td>\n",
       "    </tr>\n",
       "    <tr>\n",
       "      <th>9</th>\n",
       "      <td>10021</td>\n",
       "      <td>[2400:1000::/32]</td>\n",
       "    </tr>\n",
       "  </tbody>\n",
       "</table>\n",
       "</div>"
      ],
      "text/plain": [
       "  as_origen                                             prefix\n",
       "0     10000                                   [2405:ed00::/32]\n",
       "1     10001                                   [2403:7c00::/32]\n",
       "2     10002                                   [2400:8300::/32]\n",
       "3     10006               [2403:9400:1::/48, 2403:9400:2::/48]\n",
       "4     10010  [2401:980::/32, 2401:af80::/33, 2403:1f00::/32...\n",
       "5     10012                                   [2400:5100::/32]\n",
       "6     10013                     [2001:2e8::/32, 2001:3e0::/32]\n",
       "7     10014                               [2001:df6:8000::/48]\n",
       "8     10019                                   [2401:3200::/32]\n",
       "9     10021                                   [2400:1000::/32]"
      ]
     },
     "execution_count": 128,
     "metadata": {},
     "output_type": "execute_result"
    }
   ],
   "source": [
    "rib_IPv6_aggregated.head(10)"
   ]
  },
  {
   "cell_type": "code",
   "execution_count": 129,
   "metadata": {},
   "outputs": [],
   "source": [
    "#Una entrada por prefijo\n",
    "rib_IPv6_aggregated = rib_IPv6_aggregated['prefix'].apply(lambda x: pd.Series(x)).stack().reset_index(level=1, drop=True).to_frame('prefix').join(df[['as_origen']], how='left')"
   ]
  },
  {
   "cell_type": "code",
   "execution_count": 130,
   "metadata": {},
   "outputs": [
    {
     "data": {
      "text/html": [
       "<div>\n",
       "<style scoped>\n",
       "    .dataframe tbody tr th:only-of-type {\n",
       "        vertical-align: middle;\n",
       "    }\n",
       "\n",
       "    .dataframe tbody tr th {\n",
       "        vertical-align: top;\n",
       "    }\n",
       "\n",
       "    .dataframe thead th {\n",
       "        text-align: right;\n",
       "    }\n",
       "</style>\n",
       "<table border=\"1\" class=\"dataframe\">\n",
       "  <thead>\n",
       "    <tr style=\"text-align: right;\">\n",
       "      <th></th>\n",
       "      <th>prefix</th>\n",
       "      <th>as_origen</th>\n",
       "    </tr>\n",
       "  </thead>\n",
       "  <tbody>\n",
       "    <tr>\n",
       "      <th>0</th>\n",
       "      <td>2405:ed00::/32</td>\n",
       "      <td>1251</td>\n",
       "    </tr>\n",
       "    <tr>\n",
       "      <th>1</th>\n",
       "      <td>2403:7c00::/32</td>\n",
       "      <td>262476</td>\n",
       "    </tr>\n",
       "    <tr>\n",
       "      <th>2</th>\n",
       "      <td>2400:8300::/32</td>\n",
       "      <td>1251</td>\n",
       "    </tr>\n",
       "    <tr>\n",
       "      <th>3</th>\n",
       "      <td>2403:9400:1::/48</td>\n",
       "      <td>15169</td>\n",
       "    </tr>\n",
       "    <tr>\n",
       "      <th>3</th>\n",
       "      <td>2403:9400:2::/48</td>\n",
       "      <td>15169</td>\n",
       "    </tr>\n",
       "    <tr>\n",
       "      <th>4</th>\n",
       "      <td>2401:980::/32</td>\n",
       "      <td>15169</td>\n",
       "    </tr>\n",
       "    <tr>\n",
       "      <th>4</th>\n",
       "      <td>2401:af80::/33</td>\n",
       "      <td>15169</td>\n",
       "    </tr>\n",
       "    <tr>\n",
       "      <th>4</th>\n",
       "      <td>2403:1f00::/32</td>\n",
       "      <td>15169</td>\n",
       "    </tr>\n",
       "    <tr>\n",
       "      <th>4</th>\n",
       "      <td>2403:7800::/32</td>\n",
       "      <td>15169</td>\n",
       "    </tr>\n",
       "    <tr>\n",
       "      <th>4</th>\n",
       "      <td>2406:bb00::/29</td>\n",
       "      <td>15169</td>\n",
       "    </tr>\n",
       "  </tbody>\n",
       "</table>\n",
       "</div>"
      ],
      "text/plain": [
       "             prefix as_origen\n",
       "0    2405:ed00::/32      1251\n",
       "1    2403:7c00::/32    262476\n",
       "2    2400:8300::/32      1251\n",
       "3  2403:9400:1::/48     15169\n",
       "3  2403:9400:2::/48     15169\n",
       "4     2401:980::/32     15169\n",
       "4    2401:af80::/33     15169\n",
       "4    2403:1f00::/32     15169\n",
       "4    2403:7800::/32     15169\n",
       "4    2406:bb00::/29     15169"
      ]
     },
     "execution_count": 130,
     "metadata": {},
     "output_type": "execute_result"
    }
   ],
   "source": [
    "rib_IPv6_aggregated.head(10)"
   ]
  },
  {
   "cell_type": "code",
   "execution_count": 134,
   "metadata": {},
   "outputs": [
    {
     "data": {
      "text/plain": [
       "31330"
      ]
     },
     "execution_count": 134,
     "metadata": {},
     "output_type": "execute_result"
    }
   ],
   "source": [
    "rib_IPv6_aggregated.size"
   ]
  },
  {
   "cell_type": "markdown",
   "metadata": {},
   "source": [
    "Inicialmente la tabla tenía 12759132 entradas, tras la agregación por un lado de las direcciones IPv4 y por otro IPv6, quedaron 443280 IPv4 y 31330 IPv6 entradas, obteniendo un total de 12284522 entradas de diferencia con la tabla inicial"
   ]
  },
  {
   "cell_type": "code",
   "execution_count": 135,
   "metadata": {},
   "outputs": [
    {
     "data": {
      "text/plain": [
       "12284522"
      ]
     },
     "execution_count": 135,
     "metadata": {},
     "output_type": "execute_result"
    }
   ],
   "source": [
    "12759132 - 443280 - 31330"
   ]
  }
 ],
 "metadata": {
  "kernelspec": {
   "display_name": "Python 3",
   "language": "python",
   "name": "python3"
  },
  "language_info": {
   "codemirror_mode": {
    "name": "ipython",
    "version": 3
   },
   "file_extension": ".py",
   "mimetype": "text/x-python",
   "name": "python",
   "nbconvert_exporter": "python",
   "pygments_lexer": "ipython3",
   "version": "3.6.4"
  }
 },
 "nbformat": 4,
 "nbformat_minor": 2
}
